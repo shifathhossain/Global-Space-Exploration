{
 "cells": [
  {
   "cell_type": "code",
   "execution_count": 2,
   "id": "e267cc62",
   "metadata": {},
   "outputs": [],
   "source": [
    "# import libraries\n",
    "import pandas as pd\n",
    "import numpy as np\n",
    "import matplotlib.pyplot as plt"
   ]
  },
  {
   "cell_type": "code",
   "execution_count": 6,
   "id": "60d71db0",
   "metadata": {},
   "outputs": [
    {
     "name": "stdout",
     "output_type": "stream",
     "text": [
      "(3000, 12)\n",
      "Index(['Country', 'Year', 'Mission Name', 'Mission Type', 'Launch Site',\n",
      "       'Satellite Type', 'Budget (in Billion $)', 'Success Rate (%)',\n",
      "       'Technology Used', 'Environmental Impact', 'Collaborating Countries',\n",
      "       'Duration (in Days)'],\n",
      "      dtype='object')\n"
     ]
    },
    {
     "data": {
      "text/plain": [
       "Country                     object\n",
       "Year                         int64\n",
       "Mission Name                object\n",
       "Mission Type                object\n",
       "Launch Site                 object\n",
       "Satellite Type              object\n",
       "Budget (in Billion $)      float64\n",
       "Success Rate (%)             int64\n",
       "Technology Used             object\n",
       "Environmental Impact        object\n",
       "Collaborating Countries     object\n",
       "Duration (in Days)           int64\n",
       "dtype: object"
      ]
     },
     "execution_count": 6,
     "metadata": {},
     "output_type": "execute_result"
    }
   ],
   "source": [
    "# load data\n",
    "df = pd.read_csv('data/Global_Space_Exploration_Dataset.csv')\n",
    "\n",
    "# check the first few rows of the dataframe\n",
    "df.head()\n",
    "\n",
    "# check the shape of the dataframe\n",
    "print(df.shape)\n",
    "# check the columns of the dataframe\n",
    "print(df.columns)\n",
    "# check the data types of the columns\n",
    "df.dtypes"
   ]
  },
  {
   "cell_type": "code",
   "execution_count": null,
   "id": "79edc4a0",
   "metadata": {},
   "outputs": [],
   "source": [
    "duplicated=df.duplicated().sum()\n",
    "# check for missing values"
   ]
  }
 ],
 "metadata": {
  "kernelspec": {
   "display_name": "venv",
   "language": "python",
   "name": "python3"
  },
  "language_info": {
   "codemirror_mode": {
    "name": "ipython",
    "version": 3
   },
   "file_extension": ".py",
   "mimetype": "text/x-python",
   "name": "python",
   "nbconvert_exporter": "python",
   "pygments_lexer": "ipython3",
   "version": "3.12.3"
  }
 },
 "nbformat": 4,
 "nbformat_minor": 5
}
